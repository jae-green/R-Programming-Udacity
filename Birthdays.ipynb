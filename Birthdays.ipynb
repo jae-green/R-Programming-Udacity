{
 "cells": [
  {
   "cell_type": "markdown",
   "metadata": {},
   "source": [
    "### Users' Birthdays\n",
    "\n",
    "To start this notebook, we are going to look at a new idea in R called libraries.  A library is essentially code that someone else wrote, packaged, and now you can use in your own projects.  \n",
    "\n",
    "One of the most popular libraries in R is ggplot2, which was created by Hadley Wickham to enable people to easily build beautiful data visualizations.  \n",
    "\n",
    "In this lesson, you will be gaining some practice with this library.  To start using a library, you often need to install it as you saw in the previous video.  However, on this machine, ggplot2 is already installed, so we can continue by simply telling R we would like to use the library by running the below command."
   ]
  },
  {
   "cell_type": "code",
   "execution_count": 5,
   "metadata": {},
   "outputs": [],
   "source": [
    "library(ggplot2)"
   ]
  },
  {
   "cell_type": "markdown",
   "metadata": {},
   "source": [
    "When using the `summary` or `mean` functions of the previous lessons, you were using functions that were in the `base` library.  \n",
    "\n",
    "Now that you have imported ggplot2 with the above command, an entire new set of functions is now available to you.  You can see these new functions with the command below, followed by hitting tab."
   ]
  },
  {
   "cell_type": "code",
   "execution_count": null,
   "metadata": {},
   "outputs": [],
   "source": [
    "ggplot2::"
   ]
  },
  {
   "cell_type": "markdown",
   "metadata": {},
   "source": [
    "An easy way to get started with ggplot2 is with the qplot function.  Let's read in our data, and get started using the qplot function."
   ]
  },
  {
   "cell_type": "code",
   "execution_count": 6,
   "metadata": {},
   "outputs": [
    {
     "data": {
      "text/html": [
       "<table>\n",
       "<thead><tr><th scope=col>userid</th><th scope=col>age</th><th scope=col>dob_day</th><th scope=col>dob_year</th><th scope=col>dob_month</th><th scope=col>gender</th><th scope=col>tenure</th><th scope=col>friend_count</th><th scope=col>friendships_initiated</th><th scope=col>likes</th><th scope=col>likes_received</th><th scope=col>mobile_likes</th><th scope=col>mobile_likes_received</th><th scope=col>www_likes</th><th scope=col>www_likes_received</th></tr></thead>\n",
       "<tbody>\n",
       "\t<tr><td>2094382</td><td>14     </td><td>19     </td><td>1999   </td><td>11     </td><td>male   </td><td>266    </td><td>0      </td><td>0      </td><td>0      </td><td>0      </td><td>0      </td><td>0      </td><td>0      </td><td>0      </td></tr>\n",
       "\t<tr><td>1192601</td><td>14     </td><td> 2     </td><td>1999   </td><td>11     </td><td>female </td><td>  6    </td><td>0      </td><td>0      </td><td>0      </td><td>0      </td><td>0      </td><td>0      </td><td>0      </td><td>0      </td></tr>\n",
       "\t<tr><td>2083884</td><td>14     </td><td>16     </td><td>1999   </td><td>11     </td><td>male   </td><td> 13    </td><td>0      </td><td>0      </td><td>0      </td><td>0      </td><td>0      </td><td>0      </td><td>0      </td><td>0      </td></tr>\n",
       "\t<tr><td>1203168</td><td>14     </td><td>25     </td><td>1999   </td><td>12     </td><td>female </td><td> 93    </td><td>0      </td><td>0      </td><td>0      </td><td>0      </td><td>0      </td><td>0      </td><td>0      </td><td>0      </td></tr>\n",
       "\t<tr><td>1733186</td><td>14     </td><td> 4     </td><td>1999   </td><td>12     </td><td>male   </td><td> 82    </td><td>0      </td><td>0      </td><td>0      </td><td>0      </td><td>0      </td><td>0      </td><td>0      </td><td>0      </td></tr>\n",
       "\t<tr><td>1524765</td><td>14     </td><td> 1     </td><td>1999   </td><td>12     </td><td>male   </td><td> 15    </td><td>0      </td><td>0      </td><td>0      </td><td>0      </td><td>0      </td><td>0      </td><td>0      </td><td>0      </td></tr>\n",
       "</tbody>\n",
       "</table>\n"
      ],
      "text/latex": [
       "\\begin{tabular}{r|lllllllllllllll}\n",
       " userid & age & dob\\_day & dob\\_year & dob\\_month & gender & tenure & friend\\_count & friendships\\_initiated & likes & likes\\_received & mobile\\_likes & mobile\\_likes\\_received & www\\_likes & www\\_likes\\_received\\\\\n",
       "\\hline\n",
       "\t 2094382 & 14      & 19      & 1999    & 11      & male    & 266     & 0       & 0       & 0       & 0       & 0       & 0       & 0       & 0      \\\\\n",
       "\t 1192601 & 14      &  2      & 1999    & 11      & female  &   6     & 0       & 0       & 0       & 0       & 0       & 0       & 0       & 0      \\\\\n",
       "\t 2083884 & 14      & 16      & 1999    & 11      & male    &  13     & 0       & 0       & 0       & 0       & 0       & 0       & 0       & 0      \\\\\n",
       "\t 1203168 & 14      & 25      & 1999    & 12      & female  &  93     & 0       & 0       & 0       & 0       & 0       & 0       & 0       & 0      \\\\\n",
       "\t 1733186 & 14      &  4      & 1999    & 12      & male    &  82     & 0       & 0       & 0       & 0       & 0       & 0       & 0       & 0      \\\\\n",
       "\t 1524765 & 14      &  1      & 1999    & 12      & male    &  15     & 0       & 0       & 0       & 0       & 0       & 0       & 0       & 0      \\\\\n",
       "\\end{tabular}\n"
      ],
      "text/markdown": [
       "\n",
       "| userid | age | dob_day | dob_year | dob_month | gender | tenure | friend_count | friendships_initiated | likes | likes_received | mobile_likes | mobile_likes_received | www_likes | www_likes_received |\n",
       "|---|---|---|---|---|---|---|---|---|---|---|---|---|---|---|\n",
       "| 2094382 | 14      | 19      | 1999    | 11      | male    | 266     | 0       | 0       | 0       | 0       | 0       | 0       | 0       | 0       |\n",
       "| 1192601 | 14      |  2      | 1999    | 11      | female  |   6     | 0       | 0       | 0       | 0       | 0       | 0       | 0       | 0       |\n",
       "| 2083884 | 14      | 16      | 1999    | 11      | male    |  13     | 0       | 0       | 0       | 0       | 0       | 0       | 0       | 0       |\n",
       "| 1203168 | 14      | 25      | 1999    | 12      | female  |  93     | 0       | 0       | 0       | 0       | 0       | 0       | 0       | 0       |\n",
       "| 1733186 | 14      |  4      | 1999    | 12      | male    |  82     | 0       | 0       | 0       | 0       | 0       | 0       | 0       | 0       |\n",
       "| 1524765 | 14      |  1      | 1999    | 12      | male    |  15     | 0       | 0       | 0       | 0       | 0       | 0       | 0       | 0       |\n",
       "\n"
      ],
      "text/plain": [
       "  userid  age dob_day dob_year dob_month gender tenure friend_count\n",
       "1 2094382 14  19      1999     11        male   266    0           \n",
       "2 1192601 14   2      1999     11        female   6    0           \n",
       "3 2083884 14  16      1999     11        male    13    0           \n",
       "4 1203168 14  25      1999     12        female  93    0           \n",
       "5 1733186 14   4      1999     12        male    82    0           \n",
       "6 1524765 14   1      1999     12        male    15    0           \n",
       "  friendships_initiated likes likes_received mobile_likes mobile_likes_received\n",
       "1 0                     0     0              0            0                    \n",
       "2 0                     0     0              0            0                    \n",
       "3 0                     0     0              0            0                    \n",
       "4 0                     0     0              0            0                    \n",
       "5 0                     0     0              0            0                    \n",
       "6 0                     0     0              0            0                    \n",
       "  www_likes www_likes_received\n",
       "1 0         0                 \n",
       "2 0         0                 \n",
       "3 0         0                 \n",
       "4 0         0                 \n",
       "5 0         0                 \n",
       "6 0         0                 "
      ]
     },
     "metadata": {},
     "output_type": "display_data"
    }
   ],
   "source": [
    "fb = read.csv('./pseudo_facebook.tsv', sep='\\t')\n",
    "head(fb)"
   ]
  },
  {
   "cell_type": "code",
   "execution_count": 7,
   "metadata": {},
   "outputs": [
    {
     "data": {
      "image/png": "[encoded data removed]",
      "text/plain": [
       "plot without title"
      ]
     },
     "metadata": {},
     "output_type": "display_data"
    }
   ],
   "source": [
    "qplot(x=dob_day, data=fb, bins=31)"
   ]
  },
  {
   "cell_type": "markdown",
   "metadata": {},
   "source": [
    "We can also get other themes (though the defauls is pretty nice) by using another library called `ggthemes`.  You do not have write access to the R library to add this library in the workspace.  However, the below would work on your local machine."
   ]
  },
  {
   "cell_type": "code",
   "execution_count": 8,
   "metadata": {},
   "outputs": [],
   "source": [
    "# install.packages('ggthemes', dependencies = TRUE)\n",
    "# library(ggthemes)"
   ]
  },
  {
   "cell_type": "markdown",
   "metadata": {},
   "source": [
    "Instead of using the qplot() function, you can also use the ggplot() function."
   ]
  },
  {
   "cell_type": "code",
   "execution_count": 9,
   "metadata": {},
   "outputs": [
    {
     "data": {
      "image/png": "[encoded data removed]",
      "text/plain": [
       "plot without title"
      ]
     },
     "metadata": {},
     "output_type": "display_data"
    }
   ],
   "source": [
    "ggplot(aes(x=dob_day), data=fb) + \n",
    "        geom_histogram(binwidth=1) +\n",
    "        scale_x_continuous(breaks=1:31)"
   ]
  },
  {
   "cell_type": "markdown",
   "metadata": {},
   "source": [
    "This method of creating plots using ggplot has become much more popular than using qplot.  The method is known as the grammar of graphics, which you can read more about in the white paper if you are interested: http://vita.had.co.nz/papers/layered-grammar.html."
   ]
  },
  {
   "cell_type": "code",
   "execution_count": null,
   "metadata": {},
   "outputs": [],
   "source": []
  }
 ],
 "metadata": {
  "kernelspec": {
   "display_name": "R",
   "language": "R",
   "name": "ir"
  },
  "language_info": {
   "codemirror_mode": "r",
   "file_extension": ".r",
   "mimetype": "text/x-r-source",
   "name": "R",
   "pygments_lexer": "r",
   "version": "3.5.1"
  }
 },
 "nbformat": 4,
 "nbformat_minor": 2
}
