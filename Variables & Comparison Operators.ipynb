{
 "cells": [
  {
   "cell_type": "markdown",
   "metadata": {
    "graffitiCellId": "id_n92su4p"
   },
   "source": [
    "### Variables & Comparison Operators\n",
    "\n",
    "<span class=\"graffiti-highlight graffiti-id_n92su4p-id_vqflo5f\"><i></i>Click here for a video through this notebook.</span>\n",
    "\n",
    "We can store data or vectors into variables.  For example, "
   ]
  },
  {
   "cell_type": "code",
   "execution_count": null,
   "metadata": {
    "graffitiCellId": "id_zeyn2mw"
   },
   "outputs": [],
   "source": [
    "x = c(4, 3, 3, 4, 3, 1) # x is a variable that holds our vector"
   ]
  },
  {
   "cell_type": "code",
   "execution_count": null,
   "metadata": {
    "graffitiCellId": "id_2gcwth7"
   },
   "outputs": [],
   "source": [
    "y = 4 # y is a variable that holds the data 4\n",
    "z = 7"
   ]
  },
  {
   "cell_type": "code",
   "execution_count": null,
   "metadata": {
    "graffitiCellId": "id_q6xpv2w"
   },
   "outputs": [],
   "source": [
    "z"
   ]
  },
  {
   "cell_type": "markdown",
   "metadata": {
    "graffitiCellId": "id_f7na7rt"
   },
   "source": [
    "Variable names should be descriptive, but not too descriptive.  The below is probably too descriptive:"
   ]
  },
  {
   "cell_type": "code",
   "execution_count": null,
   "metadata": {
    "graffitiCellId": "id_1p3q06k"
   },
   "outputs": [],
   "source": [
    "container.of.four = 4\n",
    "container.of.seven = 7 "
   ]
  },
  {
   "cell_type": "markdown",
   "metadata": {
    "graffitiCellId": "id_p5kwh70"
   },
   "source": [
    "Where the variable names here are useful:"
   ]
  },
  {
   "cell_type": "code",
   "execution_count": null,
   "metadata": {
    "graffitiCellId": "id_ze7ae42"
   },
   "outputs": [],
   "source": [
    "eye.colors = c('blue', 'green', 'brown', 'brown')\n",
    "heights = c(67, 74, 63, 70)"
   ]
  },
  {
   "cell_type": "markdown",
   "metadata": {
    "graffitiCellId": "id_6fznl2t"
   },
   "source": [
    "<span class=\"graffiti-highlight graffiti-id_6fznl2t-id_7aixa58\"><i></i>Click here for a video going through the comparison operators.</span>\n",
    "\n",
    "For numbers, we can directly compare using a number of operators:"
   ]
  },
  {
   "cell_type": "code",
   "execution_count": null,
   "metadata": {
    "graffitiCellId": "id_wcao4ij"
   },
   "outputs": [],
   "source": [
    "y > z"
   ]
  },
  {
   "cell_type": "code",
   "execution_count": null,
   "metadata": {
    "graffitiCellId": "id_aajctvy"
   },
   "outputs": [],
   "source": [
    "y < z"
   ]
  },
  {
   "cell_type": "code",
   "execution_count": null,
   "metadata": {
    "graffitiCellId": "id_bq1v4r5"
   },
   "outputs": [],
   "source": [
    "y <= z"
   ]
  },
  {
   "cell_type": "code",
   "execution_count": 54,
   "metadata": {
    "graffitiCellId": "id_cjvmz5o"
   },
   "outputs": [
    {
     "data": {
      "text/html": [
       "FALSE"
      ],
      "text/latex": [
       "FALSE"
      ],
      "text/markdown": [
       "FALSE"
      ],
      "text/plain": [
       "[1] FALSE"
      ]
     },
     "metadata": {},
     "output_type": "display_data"
    }
   ],
   "source": [
    "y >= z"
   ]
  },
  {
   "cell_type": "code",
   "execution_count": null,
   "metadata": {
    "graffitiCellId": "id_y7ak0e5"
   },
   "outputs": [],
   "source": [
    "y == z"
   ]
  },
  {
   "cell_type": "code",
   "execution_count": null,
   "metadata": {
    "graffitiCellId": "id_n32j7kn"
   },
   "outputs": [],
   "source": [
    "y != z"
   ]
  },
  {
   "cell_type": "markdown",
   "metadata": {
    "graffitiCellId": "id_o93athu"
   },
   "source": [
    "We can also perform these types of operations on vectors:"
   ]
  },
  {
   "cell_type": "code",
   "execution_count": null,
   "metadata": {
    "graffitiCellId": "id_cb0kfyy"
   },
   "outputs": [],
   "source": [
    "heights >= 70"
   ]
  },
  {
   "cell_type": "markdown",
   "metadata": {
    "graffitiCellId": "id_0ewkzcb"
   },
   "source": [
    "<span class=\"graffiti-highlight graffiti-id_0ewkzcb-id_9wmgc3j\"><i></i>Click here for a video walkthrough of the code below.</span>\n",
    "\n",
    "Here are some additional examples:"
   ]
  },
  {
   "cell_type": "code",
   "execution_count": null,
   "metadata": {
    "graffitiCellId": "id_as4e5dc"
   },
   "outputs": [],
   "source": [
    "any(heights <= 70)"
   ]
  },
  {
   "cell_type": "code",
   "execution_count": null,
   "metadata": {
    "graffitiCellId": "id_ue7mras"
   },
   "outputs": [],
   "source": [
    "all(heights <= 70)"
   ]
  },
  {
   "cell_type": "code",
   "execution_count": null,
   "metadata": {
    "graffitiCellId": "id_zwhsk5f"
   },
   "outputs": [],
   "source": [
    "which(heights <= 70)"
   ]
  },
  {
   "cell_type": "code",
   "execution_count": null,
   "metadata": {
    "graffitiCellId": "id_lhf5a3x"
   },
   "outputs": [],
   "source": [
    "subset(heights, heights > 70)"
   ]
  },
  {
   "cell_type": "code",
   "execution_count": null,
   "metadata": {
    "graffitiCellId": "id_hvsr2t5"
   },
   "outputs": [],
   "source": []
  }
 ],
 "metadata": {
  "graffiti": {
   "firstAuthorId": "12024648559",
   "id": "id_48xg2c4",
   "language": "EN"
  },
  "kernelspec": {
   "display_name": "R",
   "language": "R",
   "name": "ir"
  },
  "language_info": {
   "codemirror_mode": "r",
   "file_extension": ".r",
   "mimetype": "text/x-r-source",
   "name": "R",
   "pygments_lexer": "r",
   "version": "3.5.1"
  }
 },
 "nbformat": 4,
 "nbformat_minor": 2
}
