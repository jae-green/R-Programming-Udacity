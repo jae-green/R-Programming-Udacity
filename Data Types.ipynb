{
 "cells": [
  {
   "cell_type": "markdown",
   "metadata": {
    "graffitiCellId": "id_j3nbb2y"
   },
   "source": [
    "### Data Types \n",
    "\n",
    "In this notebook, you will get some practice working with three different data types:\n",
    "\n",
    "1. numeric\n",
    "2. character\n",
    "3. logicals\n",
    "\n",
    "<span class=\"graffiti-highlight graffiti-id_j3nbb2y-id_aj2r9v5\"><i></i>Click here for a walkthrough of data types.</span>"
   ]
  },
  {
   "cell_type": "markdown",
   "metadata": {
    "graffitiCellId": "id_a0zp3ba"
   },
   "source": [
    "#### Characters"
   ]
  },
  {
   "cell_type": "code",
   "execution_count": null,
   "metadata": {
    "graffitiCellId": "id_k0ov45r"
   },
   "outputs": [],
   "source": [
    "'this is a character'"
   ]
  },
  {
   "cell_type": "code",
   "execution_count": null,
   "metadata": {
    "graffitiCellId": "id_syau5xq"
   },
   "outputs": [],
   "source": [
    "\"This is also a character\""
   ]
  },
  {
   "cell_type": "code",
   "execution_count": null,
   "metadata": {
    "graffitiCellId": "id_l3ldoq8"
   },
   "outputs": [],
   "source": [
    "\"Where'd you go?\""
   ]
  },
  {
   "cell_type": "code",
   "execution_count": null,
   "metadata": {
    "graffitiCellId": "id_eskwbss"
   },
   "outputs": [],
   "source": [
    "'Where'd you go'"
   ]
  },
  {
   "cell_type": "markdown",
   "metadata": {
    "graffitiCellId": "id_1ri6f0x"
   },
   "source": [
    "#### Numerics\n",
    "\n",
    "Though there are separate types between integers and numerics, you can use numerics for most every use case with numbers."
   ]
  },
  {
   "cell_type": "code",
   "execution_count": null,
   "metadata": {
    "graffitiCellId": "id_cc1kws9"
   },
   "outputs": [],
   "source": [
    "class(5)"
   ]
  },
  {
   "cell_type": "code",
   "execution_count": null,
   "metadata": {
    "graffitiCellId": "id_y7k7c85"
   },
   "outputs": [],
   "source": [
    "class(5.5)"
   ]
  },
  {
   "cell_type": "code",
   "execution_count": null,
   "metadata": {
    "graffitiCellId": "id_ev19mx1"
   },
   "outputs": [],
   "source": [
    "class(\"yes\")"
   ]
  },
  {
   "cell_type": "markdown",
   "metadata": {
    "graffitiCellId": "id_iw1iuy3"
   },
   "source": [
    "#### Logicals"
   ]
  },
  {
   "cell_type": "code",
   "execution_count": null,
   "metadata": {
    "graffitiCellId": "id_lmpjyd5"
   },
   "outputs": [],
   "source": [
    "class(TRUE)"
   ]
  },
  {
   "cell_type": "code",
   "execution_count": null,
   "metadata": {
    "graffitiCellId": "id_qegb15y"
   },
   "outputs": [],
   "source": [
    "class(FALSE)"
   ]
  },
  {
   "cell_type": "code",
   "execution_count": null,
   "metadata": {
    "graffitiCellId": "id_801o9ld"
   },
   "outputs": [],
   "source": [
    "class(False)"
   ]
  },
  {
   "cell_type": "code",
   "execution_count": null,
   "metadata": {
    "graffitiCellId": "id_r4obabz"
   },
   "outputs": [],
   "source": [
    "class('True')"
   ]
  },
  {
   "cell_type": "code",
   "execution_count": null,
   "metadata": {
    "graffitiCellId": "id_sqlscp3"
   },
   "outputs": [],
   "source": [
    "class('5') "
   ]
  },
  {
   "cell_type": "code",
   "execution_count": null,
   "metadata": {
    "graffitiCellId": "id_kljzocr"
   },
   "outputs": [],
   "source": [
    "class('yes')"
   ]
  },
  {
   "cell_type": "code",
   "execution_count": null,
   "metadata": {
    "graffitiCellId": "id_tlqeq0w"
   },
   "outputs": [],
   "source": [
    "class(5)"
   ]
  },
  {
   "cell_type": "code",
   "execution_count": null,
   "metadata": {
    "graffitiCellId": "id_3ucu40a"
   },
   "outputs": [],
   "source": [
    "class(TRUE)"
   ]
  },
  {
   "cell_type": "code",
   "execution_count": null,
   "metadata": {
    "graffitiCellId": "id_ph4ha8p"
   },
   "outputs": [],
   "source": [
    "class('TRUE')"
   ]
  },
  {
   "cell_type": "code",
   "execution_count": null,
   "metadata": {
    "graffitiCellId": "id_xzlyuzf"
   },
   "outputs": [],
   "source": [
    "class(True)"
   ]
  },
  {
   "cell_type": "code",
   "execution_count": null,
   "metadata": {
    "graffitiCellId": "id_zpkj3kw"
   },
   "outputs": [],
   "source": []
  }
 ],
 "metadata": {
  "graffiti": {
   "firstAuthorId": "12024648559",
   "id": "id_245e9nl",
   "language": "EN"
  },
  "kernelspec": {
   "display_name": "R",
   "language": "R",
   "name": "ir"
  },
  "language_info": {
   "codemirror_mode": "r",
   "file_extension": ".r",
   "mimetype": "text/x-r-source",
   "name": "R",
   "pygments_lexer": "r",
   "version": "3.5.1"
  }
 },
 "nbformat": 4,
 "nbformat_minor": 2
}
