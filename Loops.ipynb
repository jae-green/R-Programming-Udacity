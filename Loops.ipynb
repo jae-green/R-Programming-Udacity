{
 "cells": [
  {
   "cell_type": "markdown",
   "metadata": {
    "graffitiCellId": "id_pmse2pa"
   },
   "source": [
    "### Loops\n",
    "\n",
    "Often it is useful to extend your functionality beyond just one value.  One of the most common ways to do this is with loops.\n",
    "\n",
    "An example of looking at a whole bunch of values related to what you saw in the last notebook is shown below."
   ]
  },
  {
   "cell_type": "code",
   "execution_count": null,
   "metadata": {
    "graffitiCellId": "id_75b5a5a"
   },
   "outputs": [],
   "source": [
    "y = seq(1,100, by = 1)"
   ]
  },
  {
   "cell_type": "markdown",
   "metadata": {
    "graffitiCellId": "id_5oshvum"
   },
   "source": [
    "#### Example 1\n",
    "\n",
    "Imagine you want to create a variable x that holds all of the values in y that are divisible by 4.  \n",
    "\n",
    "<span class=\"graffiti-highlight graffiti-id_5oshvum-id_6lhhg7v\"><i></i>Click here for an example of building a loop.</span>\n",
    "\n",
    "Try to solve yourself in the cell below."
   ]
  },
  {
   "cell_type": "code",
   "execution_count": null,
   "metadata": {
    "graffitiCellId": "id_qx3oakg"
   },
   "outputs": [],
   "source": [
    "# create a variable x that holds \n",
    "# all the values of y that are divisible by 4\n"
   ]
  },
  {
   "cell_type": "markdown",
   "metadata": {
    "graffitiCellId": "id_ee8hwpt"
   },
   "source": [
    "#### Example 2\n",
    "\n",
    "Now given a number z, can you find the factorial of z?\n",
    "\n",
    "For example z = 3, then 3! = `3*2*1` = 6\n"
   ]
  },
  {
   "cell_type": "code",
   "execution_count": null,
   "metadata": {
    "graffitiCellId": "id_1wat7a9"
   },
   "outputs": [],
   "source": [
    "# code your solution to finding the factorial here\n",
    "\n",
    "z = # enter number here\n",
    "factorial.result = # the ending factorial value should be stored in this\n"
   ]
  },
  {
   "cell_type": "markdown",
   "metadata": {
    "graffitiCellId": "id_idj3b8x"
   },
   "source": [
    "<span class=\"graffiti-highlight graffiti-id_ee8hwpt-id_0612lx0\"><i></i>Click here for video solution.</span>"
   ]
  }
 ],
 "metadata": {
  "graffiti": {
   "firstAuthorId": "12024648559",
   "id": "id_rwlrb72",
   "language": "EN"
  },
  "kernelspec": {
   "display_name": "R",
   "language": "R",
   "name": "ir"
  },
  "language_info": {
   "codemirror_mode": "r",
   "file_extension": ".r",
   "mimetype": "text/x-r-source",
   "name": "R",
   "pygments_lexer": "r",
   "version": "3.5.1"
  }
 },
 "nbformat": 4,
 "nbformat_minor": 2
}
