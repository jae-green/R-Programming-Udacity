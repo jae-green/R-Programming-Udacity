{
 "cells": [
  {
   "cell_type": "markdown",
   "metadata": {},
   "source": [
    "### Facebook Data\n",
    "\n",
    "In this lesson, you will be working with data that replicates real world data from Facebook.  To get started, let's look at what directory we are in, and see what files exist in our current directory:"
   ]
  },
  {
   "cell_type": "code",
   "execution_count": 1,
   "metadata": {},
   "outputs": [
    {
     "data": {
      "text/html": [
       "'/home/workspace'"
      ],
      "text/latex": [
       "'/home/workspace'"
      ],
      "text/markdown": [
       "'/home/workspace'"
      ],
      "text/plain": [
       "[1] \"/home/workspace\""
      ]
     },
     "metadata": {},
     "output_type": "display_data"
    }
   ],
   "source": [
    "getwd()"
   ]
  },
  {
   "cell_type": "code",
   "execution_count": 2,
   "metadata": {},
   "outputs": [
    {
     "data": {
      "text/html": [
       "<ol class=list-inline>\n",
       "\t<li>'Data Types.ipynb'</li>\n",
       "\t<li>'Facebook Data.ipynb'</li>\n",
       "\t<li>'Functions.ipynb'</li>\n",
       "\t<li>'Iris Dataset.ipynb'</li>\n",
       "\t<li>'Matrix Manipulation.ipynb'</li>\n",
       "\t<li>'pseudo_facebook.tsv'</li>\n",
       "\t<li>'Spacing &amp; Comments.ipynb'</li>\n",
       "\t<li>'Subsets &amp; Indexing.ipynb'</li>\n",
       "\t<li>'Variables &amp; Comparison Operators.ipynb'</li>\n",
       "\t<li>'Vectors.ipynb'</li>\n",
       "</ol>\n"
      ],
      "text/latex": [
       "\\begin{enumerate*}\n",
       "\\item 'Data Types.ipynb'\n",
       "\\item 'Facebook Data.ipynb'\n",
       "\\item 'Functions.ipynb'\n",
       "\\item 'Iris Dataset.ipynb'\n",
       "\\item 'Matrix Manipulation.ipynb'\n",
       "\\item 'pseudo\\_facebook.tsv'\n",
       "\\item 'Spacing \\& Comments.ipynb'\n",
       "\\item 'Subsets \\& Indexing.ipynb'\n",
       "\\item 'Variables \\& Comparison Operators.ipynb'\n",
       "\\item 'Vectors.ipynb'\n",
       "\\end{enumerate*}\n"
      ],
      "text/markdown": [
       "1. 'Data Types.ipynb'\n",
       "2. 'Facebook Data.ipynb'\n",
       "3. 'Functions.ipynb'\n",
       "4. 'Iris Dataset.ipynb'\n",
       "5. 'Matrix Manipulation.ipynb'\n",
       "6. 'pseudo_facebook.tsv'\n",
       "7. 'Spacing &amp; Comments.ipynb'\n",
       "8. 'Subsets &amp; Indexing.ipynb'\n",
       "9. 'Variables &amp; Comparison Operators.ipynb'\n",
       "10. 'Vectors.ipynb'\n",
       "\n",
       "\n"
      ],
      "text/plain": [
       " [1] \"Data Types.ipynb\"                      \n",
       " [2] \"Facebook Data.ipynb\"                   \n",
       " [3] \"Functions.ipynb\"                       \n",
       " [4] \"Iris Dataset.ipynb\"                    \n",
       " [5] \"Matrix Manipulation.ipynb\"             \n",
       " [6] \"pseudo_facebook.tsv\"                   \n",
       " [7] \"Spacing & Comments.ipynb\"              \n",
       " [8] \"Subsets & Indexing.ipynb\"              \n",
       " [9] \"Variables & Comparison Operators.ipynb\"\n",
       "[10] \"Vectors.ipynb\"                         "
      ]
     },
     "metadata": {},
     "output_type": "display_data"
    }
   ],
   "source": [
    "list.files()"
   ]
  },
  {
   "cell_type": "markdown",
   "metadata": {},
   "source": [
    "You can see all of the notebooks you have worked with throughout this course, as well as the `.tsv` file, which holds the facebook looking data we will be working with in this lesson.  Let's read that data in:"
   ]
  },
  {
   "cell_type": "code",
   "execution_count": 3,
   "metadata": {},
   "outputs": [],
   "source": [
    "fb = read.csv('pseudo_facebook.tsv', sep='\\t')"
   ]
  },
  {
   "cell_type": "code",
   "execution_count": 4,
   "metadata": {},
   "outputs": [
    {
     "data": {
      "text/html": [
       "<ol class=list-inline>\n",
       "\t<li>'userid'</li>\n",
       "\t<li>'age'</li>\n",
       "\t<li>'dob_day'</li>\n",
       "\t<li>'dob_year'</li>\n",
       "\t<li>'dob_month'</li>\n",
       "\t<li>'gender'</li>\n",
       "\t<li>'tenure'</li>\n",
       "\t<li>'friend_count'</li>\n",
       "\t<li>'friendships_initiated'</li>\n",
       "\t<li>'likes'</li>\n",
       "\t<li>'likes_received'</li>\n",
       "\t<li>'mobile_likes'</li>\n",
       "\t<li>'mobile_likes_received'</li>\n",
       "\t<li>'www_likes'</li>\n",
       "\t<li>'www_likes_received'</li>\n",
       "</ol>\n"
      ],
      "text/latex": [
       "\\begin{enumerate*}\n",
       "\\item 'userid'\n",
       "\\item 'age'\n",
       "\\item 'dob\\_day'\n",
       "\\item 'dob\\_year'\n",
       "\\item 'dob\\_month'\n",
       "\\item 'gender'\n",
       "\\item 'tenure'\n",
       "\\item 'friend\\_count'\n",
       "\\item 'friendships\\_initiated'\n",
       "\\item 'likes'\n",
       "\\item 'likes\\_received'\n",
       "\\item 'mobile\\_likes'\n",
       "\\item 'mobile\\_likes\\_received'\n",
       "\\item 'www\\_likes'\n",
       "\\item 'www\\_likes\\_received'\n",
       "\\end{enumerate*}\n"
      ],
      "text/markdown": [
       "1. 'userid'\n",
       "2. 'age'\n",
       "3. 'dob_day'\n",
       "4. 'dob_year'\n",
       "5. 'dob_month'\n",
       "6. 'gender'\n",
       "7. 'tenure'\n",
       "8. 'friend_count'\n",
       "9. 'friendships_initiated'\n",
       "10. 'likes'\n",
       "11. 'likes_received'\n",
       "12. 'mobile_likes'\n",
       "13. 'mobile_likes_received'\n",
       "14. 'www_likes'\n",
       "15. 'www_likes_received'\n",
       "\n",
       "\n"
      ],
      "text/plain": [
       " [1] \"userid\"                \"age\"                   \"dob_day\"              \n",
       " [4] \"dob_year\"              \"dob_month\"             \"gender\"               \n",
       " [7] \"tenure\"                \"friend_count\"          \"friendships_initiated\"\n",
       "[10] \"likes\"                 \"likes_received\"        \"mobile_likes\"         \n",
       "[13] \"mobile_likes_received\" \"www_likes\"             \"www_likes_received\"   "
      ]
     },
     "metadata": {},
     "output_type": "display_data"
    }
   ],
   "source": [
    "names(fb)"
   ]
  },
  {
   "cell_type": "code",
   "execution_count": 5,
   "metadata": {},
   "outputs": [
    {
     "data": {
      "text/html": [
       "<table>\n",
       "<thead><tr><th scope=col>userid</th><th scope=col>age</th><th scope=col>dob_day</th><th scope=col>dob_year</th><th scope=col>dob_month</th><th scope=col>gender</th><th scope=col>tenure</th><th scope=col>friend_count</th><th scope=col>friendships_initiated</th><th scope=col>likes</th><th scope=col>likes_received</th><th scope=col>mobile_likes</th><th scope=col>mobile_likes_received</th><th scope=col>www_likes</th><th scope=col>www_likes_received</th></tr></thead>\n",
       "<tbody>\n",
       "\t<tr><td>2094382</td><td>14     </td><td>19     </td><td>1999   </td><td>11     </td><td>male   </td><td>266    </td><td>0      </td><td>0      </td><td>0      </td><td>0      </td><td>0      </td><td>0      </td><td>0      </td><td>0      </td></tr>\n",
       "\t<tr><td>1192601</td><td>14     </td><td> 2     </td><td>1999   </td><td>11     </td><td>female </td><td>  6    </td><td>0      </td><td>0      </td><td>0      </td><td>0      </td><td>0      </td><td>0      </td><td>0      </td><td>0      </td></tr>\n",
       "\t<tr><td>2083884</td><td>14     </td><td>16     </td><td>1999   </td><td>11     </td><td>male   </td><td> 13    </td><td>0      </td><td>0      </td><td>0      </td><td>0      </td><td>0      </td><td>0      </td><td>0      </td><td>0      </td></tr>\n",
       "\t<tr><td>1203168</td><td>14     </td><td>25     </td><td>1999   </td><td>12     </td><td>female </td><td> 93    </td><td>0      </td><td>0      </td><td>0      </td><td>0      </td><td>0      </td><td>0      </td><td>0      </td><td>0      </td></tr>\n",
       "\t<tr><td>1733186</td><td>14     </td><td> 4     </td><td>1999   </td><td>12     </td><td>male   </td><td> 82    </td><td>0      </td><td>0      </td><td>0      </td><td>0      </td><td>0      </td><td>0      </td><td>0      </td><td>0      </td></tr>\n",
       "\t<tr><td>1524765</td><td>14     </td><td> 1     </td><td>1999   </td><td>12     </td><td>male   </td><td> 15    </td><td>0      </td><td>0      </td><td>0      </td><td>0      </td><td>0      </td><td>0      </td><td>0      </td><td>0      </td></tr>\n",
       "</tbody>\n",
       "</table>\n"
      ],
      "text/latex": [
       "\\begin{tabular}{r|lllllllllllllll}\n",
       " userid & age & dob\\_day & dob\\_year & dob\\_month & gender & tenure & friend\\_count & friendships\\_initiated & likes & likes\\_received & mobile\\_likes & mobile\\_likes\\_received & www\\_likes & www\\_likes\\_received\\\\\n",
       "\\hline\n",
       "\t 2094382 & 14      & 19      & 1999    & 11      & male    & 266     & 0       & 0       & 0       & 0       & 0       & 0       & 0       & 0      \\\\\n",
       "\t 1192601 & 14      &  2      & 1999    & 11      & female  &   6     & 0       & 0       & 0       & 0       & 0       & 0       & 0       & 0      \\\\\n",
       "\t 2083884 & 14      & 16      & 1999    & 11      & male    &  13     & 0       & 0       & 0       & 0       & 0       & 0       & 0       & 0      \\\\\n",
       "\t 1203168 & 14      & 25      & 1999    & 12      & female  &  93     & 0       & 0       & 0       & 0       & 0       & 0       & 0       & 0      \\\\\n",
       "\t 1733186 & 14      &  4      & 1999    & 12      & male    &  82     & 0       & 0       & 0       & 0       & 0       & 0       & 0       & 0      \\\\\n",
       "\t 1524765 & 14      &  1      & 1999    & 12      & male    &  15     & 0       & 0       & 0       & 0       & 0       & 0       & 0       & 0      \\\\\n",
       "\\end{tabular}\n"
      ],
      "text/markdown": [
       "\n",
       "| userid | age | dob_day | dob_year | dob_month | gender | tenure | friend_count | friendships_initiated | likes | likes_received | mobile_likes | mobile_likes_received | www_likes | www_likes_received |\n",
       "|---|---|---|---|---|---|---|---|---|---|---|---|---|---|---|\n",
       "| 2094382 | 14      | 19      | 1999    | 11      | male    | 266     | 0       | 0       | 0       | 0       | 0       | 0       | 0       | 0       |\n",
       "| 1192601 | 14      |  2      | 1999    | 11      | female  |   6     | 0       | 0       | 0       | 0       | 0       | 0       | 0       | 0       |\n",
       "| 2083884 | 14      | 16      | 1999    | 11      | male    |  13     | 0       | 0       | 0       | 0       | 0       | 0       | 0       | 0       |\n",
       "| 1203168 | 14      | 25      | 1999    | 12      | female  |  93     | 0       | 0       | 0       | 0       | 0       | 0       | 0       | 0       |\n",
       "| 1733186 | 14      |  4      | 1999    | 12      | male    |  82     | 0       | 0       | 0       | 0       | 0       | 0       | 0       | 0       |\n",
       "| 1524765 | 14      |  1      | 1999    | 12      | male    |  15     | 0       | 0       | 0       | 0       | 0       | 0       | 0       | 0       |\n",
       "\n"
      ],
      "text/plain": [
       "  userid  age dob_day dob_year dob_month gender tenure friend_count\n",
       "1 2094382 14  19      1999     11        male   266    0           \n",
       "2 1192601 14   2      1999     11        female   6    0           \n",
       "3 2083884 14  16      1999     11        male    13    0           \n",
       "4 1203168 14  25      1999     12        female  93    0           \n",
       "5 1733186 14   4      1999     12        male    82    0           \n",
       "6 1524765 14   1      1999     12        male    15    0           \n",
       "  friendships_initiated likes likes_received mobile_likes mobile_likes_received\n",
       "1 0                     0     0              0            0                    \n",
       "2 0                     0     0              0            0                    \n",
       "3 0                     0     0              0            0                    \n",
       "4 0                     0     0              0            0                    \n",
       "5 0                     0     0              0            0                    \n",
       "6 0                     0     0              0            0                    \n",
       "  www_likes www_likes_received\n",
       "1 0         0                 \n",
       "2 0         0                 \n",
       "3 0         0                 \n",
       "4 0         0                 \n",
       "5 0         0                 \n",
       "6 0         0                 "
      ]
     },
     "metadata": {},
     "output_type": "display_data"
    }
   ],
   "source": [
    "head(fb)"
   ]
  },
  {
   "cell_type": "code",
   "execution_count": 6,
   "metadata": {},
   "outputs": [
    {
     "data": {
      "text/html": [
       "<ol class=list-inline>\n",
       "\t<li>99003</li>\n",
       "\t<li>15</li>\n",
       "</ol>\n"
      ],
      "text/latex": [
       "\\begin{enumerate*}\n",
       "\\item 99003\n",
       "\\item 15\n",
       "\\end{enumerate*}\n"
      ],
      "text/markdown": [
       "1. 99003\n",
       "2. 15\n",
       "\n",
       "\n"
      ],
      "text/plain": [
       "[1] 99003    15"
      ]
     },
     "metadata": {},
     "output_type": "display_data"
    }
   ],
   "source": [
    "dim(fb)"
   ]
  },
  {
   "cell_type": "code",
   "execution_count": 7,
   "metadata": {},
   "outputs": [
    {
     "data": {
      "text/plain": [
       "     userid             age            dob_day         dob_year   \n",
       " Min.   :1000008   Min.   : 13.00   Min.   : 1.00   Min.   :1900  \n",
       " 1st Qu.:1298806   1st Qu.: 20.00   1st Qu.: 7.00   1st Qu.:1963  \n",
       " Median :1596148   Median : 28.00   Median :14.00   Median :1985  \n",
       " Mean   :1597045   Mean   : 37.28   Mean   :14.53   Mean   :1976  \n",
       " 3rd Qu.:1895744   3rd Qu.: 50.00   3rd Qu.:22.00   3rd Qu.:1993  \n",
       " Max.   :2193542   Max.   :113.00   Max.   :31.00   Max.   :2000  \n",
       "                                                                  \n",
       "   dob_month         gender          tenure        friend_count   \n",
       " Min.   : 1.000   female:40254   Min.   :   0.0   Min.   :   0.0  \n",
       " 1st Qu.: 3.000   male  :58574   1st Qu.: 226.0   1st Qu.:  31.0  \n",
       " Median : 6.000   NA's  :  175   Median : 412.0   Median :  82.0  \n",
       " Mean   : 6.283                  Mean   : 537.9   Mean   : 196.4  \n",
       " 3rd Qu.: 9.000                  3rd Qu.: 675.0   3rd Qu.: 206.0  \n",
       " Max.   :12.000                  Max.   :3139.0   Max.   :4923.0  \n",
       "                                 NA's   :2                        \n",
       " friendships_initiated     likes         likes_received      mobile_likes    \n",
       " Min.   :   0.0        Min.   :    0.0   Min.   :     0.0   Min.   :    0.0  \n",
       " 1st Qu.:  17.0        1st Qu.:    1.0   1st Qu.:     1.0   1st Qu.:    0.0  \n",
       " Median :  46.0        Median :   11.0   Median :     8.0   Median :    4.0  \n",
       " Mean   : 107.5        Mean   :  156.1   Mean   :   142.7   Mean   :  106.1  \n",
       " 3rd Qu.: 117.0        3rd Qu.:   81.0   3rd Qu.:    59.0   3rd Qu.:   46.0  \n",
       " Max.   :4144.0        Max.   :25111.0   Max.   :261197.0   Max.   :25111.0  \n",
       "                                                                             \n",
       " mobile_likes_received   www_likes        www_likes_received \n",
       " Min.   :     0.00     Min.   :    0.00   Min.   :     0.00  \n",
       " 1st Qu.:     0.00     1st Qu.:    0.00   1st Qu.:     0.00  \n",
       " Median :     4.00     Median :    0.00   Median :     2.00  \n",
       " Mean   :    84.12     Mean   :   49.96   Mean   :    58.57  \n",
       " 3rd Qu.:    33.00     3rd Qu.:    7.00   3rd Qu.:    20.00  \n",
       " Max.   :138561.00     Max.   :14865.00   Max.   :129953.00  \n",
       "                                                             "
      ]
     },
     "metadata": {},
     "output_type": "display_data"
    }
   ],
   "source": [
    "summary(fb)"
   ]
  },
  {
   "cell_type": "code",
   "execution_count": null,
   "metadata": {},
   "outputs": [],
   "source": []
  }
 ],
 "metadata": {
  "kernelspec": {
   "display_name": "R",
   "language": "R",
   "name": "ir"
  },
  "language_info": {
   "codemirror_mode": "r",
   "file_extension": ".r",
   "mimetype": "text/x-r-source",
   "name": "R",
   "pygments_lexer": "r",
   "version": "3.5.1"
  }
 },
 "nbformat": 4,
 "nbformat_minor": 2
}
