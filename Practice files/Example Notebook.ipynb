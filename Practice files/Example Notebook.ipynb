{
 "cells": [
  {
   "cell_type": "markdown",
   "metadata": {
    "graffitiCellId": "id_02axb8i"
   },
   "source": [
    "<span class=\"graffiti-highlight graffiti-id_02axb8i-id_64fnv4s\"><i></i></span>"
   ]
  },
  {
   "cell_type": "markdown",
   "metadata": {
    "graffitiCellId": "id_bzwacls"
   },
   "source": [
    "### Example Notebook\n",
    "\n",
    "In this class, you will be able to interact with video and code using this environment, which is called a Jupyter Notebook.  <span class=\"graffiti-highlight graffiti-id_bzwacls-id_5dtni6v\"><i></i>Click here to see how video content works in this notebook</span>.  In this video at any time, you can stop the video and interact with the code.  Then you can easily go back to the video by clicking play again in the Graffiti menu."
   ]
  },
  {
   "cell_type": "code",
   "execution_count": null,
   "metadata": {
    "graffitiCellId": "id_yfpqy3h"
   },
   "outputs": [],
   "source": []
  },
  {
   "cell_type": "code",
   "execution_count": null,
   "metadata": {
    "graffitiCellId": "id_vt56177"
   },
   "outputs": [],
   "source": []
  },
  {
   "cell_type": "markdown",
   "metadata": {
    "graffitiCellId": "id_28plric"
   },
   "source": [
    "Here is a list of [helpful shortcuts](https://www.cheatography.com/weidadeyue/cheat-sheets/jupyter-notebook/) for using notebooks.\n",
    "\n",
    "You don't need to memorize these, but some will come in handy the more you use notebooks.  You can try typing other R commands in the cells below, and then hitting `shift + enter` to execute the cells."
   ]
  },
  {
   "cell_type": "code",
   "execution_count": null,
   "metadata": {
    "graffitiCellId": "id_nugz8kd"
   },
   "outputs": [],
   "source": []
  }
 ],
 "metadata": {
  "graffiti": {
   "firstAuthorId": "12024648559",
   "id": "id_odcre5q",
   "language": "EN"
  },
  "kernelspec": {
   "display_name": "R",
   "language": "R",
   "name": "ir"
  },
  "language_info": {
   "codemirror_mode": "r",
   "file_extension": ".r",
   "mimetype": "text/x-r-source",
   "name": "R",
   "pygments_lexer": "r",
   "version": "3.5.1"
  }
 },
 "nbformat": 4,
 "nbformat_minor": 2
}
