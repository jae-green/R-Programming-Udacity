{
 "cells": [
  {
   "cell_type": "markdown",
   "metadata": {
    "graffitiCellId": "id_efp4f5n"
   },
   "source": [
    "### Spacing and Comments\n",
    "\n",
    "In R, spacing isn't really important.  Notice that both of the below two cells execute to the same result. <span class=\"graffiti-highlight graffiti-id_efp4f5n-id_93terdg\"><i></i>Click here to start a video of this notebook.</span>"
   ]
  },
  {
   "cell_type": "code",
   "execution_count": null,
   "metadata": {
    "graffitiCellId": "id_baakvtq"
   },
   "outputs": [],
   "source": [
    "4 + 5"
   ]
  },
  {
   "cell_type": "code",
   "execution_count": null,
   "metadata": {
    "graffitiCellId": "id_e12i52s"
   },
   "outputs": [],
   "source": [
    "4 +         5"
   ]
  },
  {
   "cell_type": "markdown",
   "metadata": {
    "graffitiCellId": "id_qip90xl"
   },
   "source": [
    "You can write comments in notebooks within these markdown cells, but when you are coding in a script, you don't have access to cells like this!  So how do you leave comments in an R script?"
   ]
  },
  {
   "cell_type": "code",
   "execution_count": null,
   "metadata": {
    "graffitiCellId": "id_b3c98oh"
   },
   "outputs": [],
   "source": [
    "# This is a comment\n",
    "# Below this second comment is code\n",
    "5*7"
   ]
  },
  {
   "cell_type": "code",
   "execution_count": null,
   "metadata": {
    "graffitiCellId": "id_buukv8l"
   },
   "outputs": [],
   "source": [
    "'This is a character type'"
   ]
  },
  {
   "cell_type": "code",
   "execution_count": null,
   "metadata": {
    "graffitiCellId": "id_fjxj5pc"
   },
   "outputs": [],
   "source": [
    "'This        is      a character type'"
   ]
  },
  {
   "cell_type": "code",
   "execution_count": null,
   "metadata": {
    "graffitiCellId": "id_4i0efqm"
   },
   "outputs": [],
   "source": [
    "          'This is a character type'"
   ]
  },
  {
   "cell_type": "markdown",
   "metadata": {
    "graffitiCellId": "id_17gfryc"
   },
   "source": [
    "<span class=\"graffiti-highlight graffiti-id_17gfryc-id_to1b8yu\"><i></i>Click here for some additional advice.</span>"
   ]
  }
 ],
 "metadata": {
  "graffiti": {
   "firstAuthorId": "12024648559",
   "id": "id_a37qx3p",
   "language": "EN"
  },
  "kernelspec": {
   "display_name": "R",
   "language": "R",
   "name": "ir"
  },
  "language_info": {
   "codemirror_mode": "r",
   "file_extension": ".r",
   "mimetype": "text/x-r-source",
   "name": "R",
   "pygments_lexer": "r",
   "version": "3.5.1"
  }
 },
 "nbformat": 4,
 "nbformat_minor": 2
}
