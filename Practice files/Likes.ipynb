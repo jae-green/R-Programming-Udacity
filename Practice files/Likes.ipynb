{
 "cells": [
  {
   "cell_type": "markdown",
   "metadata": {},
   "source": [
    "### Likes\n",
    "\n",
    "In the previous videos, you were first asked two questions.\n",
    "\n",
    "The first of these questions was `what was the www_like count for males?`\n",
    "\n",
    "You can answer this question in many ways.  One way was using the by command shown in the video."
   ]
  },
  {
   "cell_type": "code",
   "execution_count": null,
   "metadata": {},
   "outputs": [],
   "source": [
    "library(ggplot2)"
   ]
  },
  {
   "cell_type": "code",
   "execution_count": null,
   "metadata": {},
   "outputs": [],
   "source": [
    "fb = read.csv('./pseudo_facebook.tsv', sep='\\t')\n",
    "head(fb)"
   ]
  },
  {
   "cell_type": "code",
   "execution_count": null,
   "metadata": {},
   "outputs": [],
   "source": [
    "by(fb$www_likes, fb$gender, sum)"
   ]
  },
  {
   "cell_type": "markdown",
   "metadata": {},
   "source": [
    "The second question was `which gender has more likes?` We can see females have more likes by looking at the results of the previous table as well"
   ]
  },
  {
   "cell_type": "markdown",
   "metadata": {},
   "source": [
    "Next, we can take a look at boxplots.  The default plot when working with numeric data is a histogram.  However, there are instances when a boxplot might better help you understand the data you are working with.\n",
    "\n",
    "You can create a boxplot in R with the following code:"
   ]
  },
  {
   "cell_type": "code",
   "execution_count": null,
   "metadata": {},
   "outputs": [],
   "source": [
    "qplot(x = friend_count, data = subset(fb, !is.na(gender)), binwidth = 25) +\n",
    "        scale_x_continuous(limits=c(0,1000), breaks = seq(0,1000,50)) +\n",
    "        facet_wrap(~gender)"
   ]
  },
  {
   "cell_type": "code",
   "execution_count": null,
   "metadata": {},
   "outputs": [],
   "source": [
    "# passing the geom argument allows us to change the plot type\n",
    "qplot(x = gender, y = friend_count, data = subset(fb, !is.na(gender)), geom = 'boxplot', ylim = c(0,100)) "
   ]
  },
  {
   "cell_type": "code",
   "execution_count": null,
   "metadata": {},
   "outputs": [],
   "source": [
    "# passing the geom argument allows us to change the plot type\n",
    "qplot(x = gender, y = friend_count, data = subset(fb, !is.na(gender)), \n",
    "      geom = 'boxplot') + \n",
    "      coord_cartesian(ylim = c(0,100)) "
   ]
  },
  {
   "cell_type": "markdown",
   "metadata": {},
   "source": [
    "The nice thing about having all of this code available to you for the facebook data is that the same code can be extended to any new dataset where you want to look at the same type of variable.  You can get quick insights without having to learn a whole new set of tools or new code to write."
   ]
  },
  {
   "cell_type": "code",
   "execution_count": null,
   "metadata": {},
   "outputs": [],
   "source": []
  }
 ],
 "metadata": {
  "kernelspec": {
   "display_name": "R",
   "language": "R",
   "name": "ir"
  },
  "language_info": {
   "codemirror_mode": "r",
   "file_extension": ".r",
   "mimetype": "text/x-r-source",
   "name": "R",
   "pygments_lexer": "r",
   "version": "3.5.1"
  }
 },
 "nbformat": 4,
 "nbformat_minor": 2
}
