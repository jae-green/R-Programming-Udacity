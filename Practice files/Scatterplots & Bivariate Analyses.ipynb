{
 "cells": [
  {
   "cell_type": "markdown",
   "metadata": {},
   "source": [
    "### Scatterplots\n",
    "\n",
    "In the last few videos, you had a chance to see how to create bivariate plots (like scatterplots).  Here you will have the opportunity to work with that code directly in the classroom."
   ]
  },
  {
   "cell_type": "code",
   "execution_count": null,
   "metadata": {},
   "outputs": [],
   "source": [
    "library(ggplot2)\n",
    "fb = read.csv('./pseudo_facebook.tsv', sep='\\t')\n",
    "head(fb)"
   ]
  },
  {
   "cell_type": "code",
   "execution_count": null,
   "metadata": {},
   "outputs": [],
   "source": [
    "qplot(x=age, y=friend_count, data=fb)"
   ]
  },
  {
   "cell_type": "code",
   "execution_count": null,
   "metadata": {},
   "outputs": [],
   "source": [
    "# the more verbose ggplot\n",
    "ggplot(aes(x=age, y=friend_count), data=fb) + geom_point() + xlim(13, 90)"
   ]
  },
  {
   "cell_type": "code",
   "execution_count": null,
   "metadata": {},
   "outputs": [],
   "source": [
    "# the more verbose ggplot\n",
    "ggplot(aes(x=age, y=friend_count), data=fb) + geom_point() + xlim(13, 90)"
   ]
  },
  {
   "cell_type": "code",
   "execution_count": null,
   "metadata": {},
   "outputs": [],
   "source": [
    "# lighter areas here have fewer points than darker points\n",
    "ggplot(aes(x=age, y=friend_count), data=fb) +\n",
    "  geom_jitter(alpha = 1/20) + xlim(13, 90)"
   ]
  },
  {
   "cell_type": "code",
   "execution_count": null,
   "metadata": {},
   "outputs": [],
   "source": [
    "# lighter areas here have fewer points than darker points\n",
    "ggplot(aes(x=age, y=friend_count), data=fb) +\n",
    "  xlim(13, 90) +\n",
    "  geom_point(alpha=0.05, position = position_jitter(h=0), color='orange') +\n",
    "  coord_trans(y='sqrt') +\n",
    "  geom_line(stat = 'summary', fun.y=mean)"
   ]
  },
  {
   "cell_type": "code",
   "execution_count": null,
   "metadata": {},
   "outputs": [],
   "source": []
  },
  {
   "cell_type": "code",
   "execution_count": null,
   "metadata": {},
   "outputs": [],
   "source": []
  }
 ],
 "metadata": {
  "kernelspec": {
   "display_name": "R",
   "language": "R",
   "name": "ir"
  },
  "language_info": {
   "codemirror_mode": "r",
   "file_extension": ".r",
   "mimetype": "text/x-r-source",
   "name": "R",
   "pygments_lexer": "r",
   "version": "3.5.1"
  }
 },
 "nbformat": 4,
 "nbformat_minor": 2
}
