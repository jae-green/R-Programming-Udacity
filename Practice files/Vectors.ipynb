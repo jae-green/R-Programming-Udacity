{
 "cells": [
  {
   "cell_type": "markdown",
   "metadata": {
    "graffitiCellId": "id_y3ci3cu"
   },
   "source": [
    "### Vectors\n",
    "\n",
    "<span class=\"graffiti-highlight graffiti-id_y3ci3cu-id_hyt5a3z\"><i></i>To see the first video on vectors click here.</span>\n",
    "\n",
    "We can hold all of a single data type together using vectors.  As an example, we can hold people's eye colors like this:"
   ]
  },
  {
   "cell_type": "code",
   "execution_count": null,
   "metadata": {
    "graffitiCellId": "id_fxr1ndo"
   },
   "outputs": [],
   "source": [
    "c('blue', 'green', 'brown', 'brown')"
   ]
  },
  {
   "cell_type": "markdown",
   "metadata": {
    "graffitiCellId": "id_4cjiqu6"
   },
   "source": [
    "We could also hold a vector of heights:"
   ]
  },
  {
   "cell_type": "code",
   "execution_count": null,
   "metadata": {
    "graffitiCellId": "id_hcn59vx"
   },
   "outputs": [],
   "source": [
    "c(67, 74, 63, 70)"
   ]
  },
  {
   "cell_type": "markdown",
   "metadata": {
    "graffitiCellId": "id_u8nluwm"
   },
   "source": [
    "What if we change this last value to a character?"
   ]
  },
  {
   "cell_type": "code",
   "execution_count": null,
   "metadata": {
    "graffitiCellId": "id_zjidcy6"
   },
   "outputs": [],
   "source": [
    "c(67, 74, 63, 'yes')"
   ]
  },
  {
   "cell_type": "markdown",
   "metadata": {
    "graffitiCellId": "id_tmlrvq1"
   },
   "source": [
    "Notice spacing doesn't really matter here either"
   ]
  },
  {
   "cell_type": "code",
   "execution_count": null,
   "metadata": {
    "graffitiCellId": "id_if7sdl2"
   },
   "outputs": [],
   "source": [
    "c(67,         74, 63, 70)"
   ]
  },
  {
   "cell_type": "markdown",
   "metadata": {
    "graffitiCellId": "id_npgqj12"
   },
   "source": [
    "but you have to be reasonable"
   ]
  },
  {
   "cell_type": "code",
   "execution_count": null,
   "metadata": {
    "graffitiCellId": "id_3oiljim"
   },
   "outputs": [],
   "source": [
    "c(67,         74, 63, 7       0)"
   ]
  },
  {
   "cell_type": "markdown",
   "metadata": {
    "graffitiCellId": "id_jdl2q61"
   },
   "source": [
    "And with strings it is similar to what we saw earlier:"
   ]
  },
  {
   "cell_type": "code",
   "execution_count": null,
   "metadata": {
    "graffitiCellId": "id_rancmns"
   },
   "outputs": [],
   "source": [
    "c('y    es',      'yes')"
   ]
  },
  {
   "cell_type": "markdown",
   "metadata": {
    "graffitiCellId": "id_5yaaaxm"
   },
   "source": [
    "### Additional Practice\n",
    "\n",
    "<span class=\"graffiti-highlight graffiti-id_5yaaaxm-id_zcgz84u\"><i></i>You can watch a walk through of the code below by clicking here.</span>\n",
    "\n",
    "Here are some other ways to create vectors:"
   ]
  },
  {
   "cell_type": "code",
   "execution_count": null,
   "metadata": {
    "graffitiCellId": "id_wbb4ga8"
   },
   "outputs": [],
   "source": [
    "c(rep(4, times=3), rep(2, times=5))"
   ]
  },
  {
   "cell_type": "code",
   "execution_count": null,
   "metadata": {
    "graffitiCellId": "id_mzgx0rp"
   },
   "outputs": [],
   "source": [
    "seq(1, 10, by=2)"
   ]
  },
  {
   "cell_type": "code",
   "execution_count": null,
   "metadata": {
    "graffitiCellId": "id_7csky2u"
   },
   "outputs": [],
   "source": [
    "seq(0, 50, 10)"
   ]
  },
  {
   "cell_type": "code",
   "execution_count": null,
   "metadata": {
    "graffitiCellId": "id_sjyigv3"
   },
   "outputs": [],
   "source": [
    "seq(1, 10, length.out=20)"
   ]
  },
  {
   "cell_type": "code",
   "execution_count": null,
   "metadata": {
    "graffitiCellId": "id_iu94bg6"
   },
   "outputs": [],
   "source": [
    "vector(mode='logical', length=2)"
   ]
  },
  {
   "cell_type": "code",
   "execution_count": null,
   "metadata": {
    "graffitiCellId": "id_l0ozupm"
   },
   "outputs": [],
   "source": [
    "vector(mode='numeric', length=5)"
   ]
  },
  {
   "cell_type": "markdown",
   "metadata": {
    "graffitiCellId": "id_ns6efzz"
   },
   "source": [
    "Notice that the above are default values for logical or numeric vectors.  What do you think the default for a character vector is?"
   ]
  },
  {
   "cell_type": "code",
   "execution_count": null,
   "metadata": {
    "graffitiCellId": "id_9kfokcr"
   },
   "outputs": [],
   "source": [
    "vector(mode='character', length=5)"
   ]
  },
  {
   "cell_type": "code",
   "execution_count": null,
   "metadata": {
    "graffitiCellId": "id_b3qbfcf"
   },
   "outputs": [],
   "source": []
  }
 ],
 "metadata": {
  "graffiti": {
   "firstAuthorId": "12024648559",
   "id": "id_o92a0hx",
   "language": "EN"
  },
  "kernelspec": {
   "display_name": "R",
   "language": "R",
   "name": "ir"
  },
  "language_info": {
   "codemirror_mode": "r",
   "file_extension": ".r",
   "mimetype": "text/x-r-source",
   "name": "R",
   "pygments_lexer": "r",
   "version": "3.5.1"
  }
 },
 "nbformat": 4,
 "nbformat_minor": 2
}
