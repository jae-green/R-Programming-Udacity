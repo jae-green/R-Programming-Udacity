{
 "cells": [
  {
   "cell_type": "markdown",
   "metadata": {
    "graffitiCellId": "id_8dsbj62"
   },
   "source": [
    "### If Else Statements\n",
    "\n",
    "<span class=\"graffiti-highlight graffiti-id_8dsbj62-id_o2a8osq\"><i></i>Click here for an introduction to this lesson.</span>\n",
    "\n",
    "<span class=\"graffiti-highlight graffiti-id_8dsbj62-id_7cleb99\"><i></i>Click here for an introduction to this topic.</span>\n",
    "\n",
    "One important way of working with data in R is through what is called control flow.  One common control flow technique is if-else statements.  In this notebook, you will become familiar with how R conducts if-else statements by running a few of your own.\n",
    "\n",
    "You saw an example of the structure in the last video, try your own if else statement in the cell below.\n",
    "\n",
    "#### Example 1\n",
    "\n",
    "Using the `where.are.you` variable: if this variable is `\"here\"`, print `\"Come on in\"`. If the variable is `\"on my way\"`, print `\"Hurry Up!\"`. If the variable is `\"I got lost\"`, print `\"Oh no! You're lost?!\"`.\n",
    "\n",
    "Try on your own here:"
   ]
  },
  {
   "cell_type": "code",
   "execution_count": null,
   "metadata": {
    "graffitiCellId": "id_gprfsln"
   },
   "outputs": [],
   "source": [
    "# try writing your if-else statement to solve the above problem here.\n",
    "\n"
   ]
  },
  {
   "cell_type": "code",
   "execution_count": null,
   "metadata": {
    "graffitiCellId": "id_l51gscm"
   },
   "outputs": [],
   "source": [
    "\n",
    "\n",
    "\n"
   ]
  },
  {
   "cell_type": "markdown",
   "metadata": {
    "graffitiCellId": "id_p05uks1"
   },
   "source": [
    "<span class=\"graffiti-highlight graffiti-id_8dsbj62-id_qrshqd0\"><i></i>Click here for a solution.</span>\n",
    "\n",
    "<span class=\"graffiti-highlight graffiti-id_8dsbj62-id_65vsom1\"><i></i>Testing out the solution.</span>"
   ]
  },
  {
   "cell_type": "markdown",
   "metadata": {
    "graffitiCellId": "id_t3y7an1"
   },
   "source": [
    "#### Example 2\n",
    "\n",
    "Use modulars to print if a number stored in the variable `y` is divisible by 4.  For example, imagine `y = 12`. Since 12 is divisible by 4, you would print `\"y is divisible by 4\"`. If instead `y=5`, 5 is not divisible by 4 without a remainder, you would print `\"y is not divisible by 4\"`.\n",
    "\n",
    "Try on your own below."
   ]
  },
  {
   "cell_type": "code",
   "execution_count": null,
   "metadata": {
    "graffitiCellId": "id_d1jejjv"
   },
   "outputs": [],
   "source": [
    "# print if y is divisible by 4 or not\n",
    "y = 5# some number\n",
    "\n",
    "# write your solution code here:\n",
    "\n"
   ]
  },
  {
   "cell_type": "markdown",
   "metadata": {
    "graffitiCellId": "id_oar29ul"
   },
   "source": [
    "<span class=\"graffiti-highlight graffiti-id_t3y7an1-id_tb1pf0m\"><i></i>Click here for a solution.</span>"
   ]
  },
  {
   "cell_type": "code",
   "execution_count": null,
   "metadata": {
    "graffitiCellId": "id_97jhsdm"
   },
   "outputs": [],
   "source": [
    "\n"
   ]
  }
 ],
 "metadata": {
  "graffiti": {
   "firstAuthorId": "12024648559",
   "id": "id_5qjncu4",
   "language": "EN"
  },
  "kernelspec": {
   "display_name": "R",
   "language": "R",
   "name": "ir"
  }
 },
 "nbformat": 4,
 "nbformat_minor": 2
}
